{
 "cells": [
  {
   "cell_type": "code",
   "execution_count": 2,
   "metadata": {},
   "outputs": [],
   "source": [
    "class string:\n",
    "    def __init__(self):\n",
    "        self.s = None\n",
    "        self.S_MIN = 1\n",
    "        self.S_MAX = 1000\n",
    "        \n",
    "    def checkInputMinMax(self, value):\n",
    "        return len(value)>=self.S_MIN and len(value)<=self.S_MAX\n",
    "    \n",
    "    def isSmallLetter(self, value): # 영문 소문자 아스키코드 97~122\n",
    "        for v in value:\n",
    "            if ord(v)<97 or ord(v)>122: return False\n",
    "        return True\n",
    "    \n",
    "    def inputS(self):\n",
    "        try:\n",
    "            s = input() \n",
    "        except TypeError: # 문자열이 아닌 경우\n",
    "            print(\"알파벳 소문자만 입력하세요.\")\n",
    "            return self.inputS()\n",
    "        if self.checkInputMinMax(s) and self.isSmallLetter(s): return s\n",
    "        else: print(\"잘못된 입력.\"); return self.inputS()\n",
    "        \n",
    "    def inputValue(self):\n",
    "        self.s = self.inputS()"
   ]
  },
  {
   "cell_type": "code",
   "execution_count": 5,
   "metadata": {},
   "outputs": [],
   "source": [
    "class stringCompression:\n",
    "    def __init__(self):\n",
    "        self.string = None\n",
    "        self.unit_dic = dict()\n",
    "        self.compressedStr = None\n",
    "        \n",
    "    def splitStr(self, unit):\n",
    "        split_list = []\n",
    "        if self.string.s%unit !=0: return None  # 뒤에가 잘린 문자열은 필요없음\n",
    "        \n",
    "        for i in range(len(self.string.s)//unit):\n",
    "            split_list.append(self.string.s[i*unit:(i+1)*unit])\n",
    "        return split_list\n",
    "    \n",
    "    def countStr(self, count, value):\n",
    "        if count==1: return value\n",
    "        else: return str(count)+value[0]\n",
    "        \n",
    "    def strCompression(self, value):\n",
    "        count = 1 \n",
    "        compressedStr = \"\"\n",
    "        pointer = 0\n",
    "        \n",
    "        for i in range(1, len(value)):\n",
    "            previous, current = i-1, i\n",
    "            if value[previous] == value[current]: \n",
    "                count+=1\n",
    "            else: \n",
    "                compressedStr += self.countStr(count, value[pointer])\n",
    "                pointer = current \n",
    "                count = 1\n",
    "            \n",
    "        compressedStr+=self.countStr(count, value[pointer])\n",
    "        print(value, compressedStr)\n",
    "        return compressedStr\n",
    "    \n",
    "    def solution(self, s):\n",
    "        length_list = []\n",
    "        compressedStr = ''\n",
    "        for unit in range(1, len(s)//2):\n",
    "            compressedStr = self.strCompression(self.splitStr(unit)) \n",
    "            self.unit_dic[unit] = compressedStr\n",
    "            length_list.append(len(compressedStr))\n",
    "            compressedStr = ''\n",
    "            \n",
    "        return min(length_list)\n",
    "        \n",
    "    def run(self):\n",
    "        self.string = string(); self.string.inputValue()\n",
    "        self.compressedStr = self.solution(self.string.s)\n",
    "        print(self.compressedStr)\n",
    "        print(self.unit_dic)"
   ]
  },
  {
   "cell_type": "code",
   "execution_count": 6,
   "metadata": {},
   "outputs": [
    {
     "name": "stdout",
     "output_type": "stream",
     "text": [
      "['a', 'a', 'b', 'b', 'a', 'c', 'c', 'c'] 2a2ba3c\n",
      "['aa', 'bb', 'ac', 'cc'] aabbaccc\n",
      "['aab', 'bac'] aabbac\n",
      "6\n",
      "{1: '2a2ba3c', 2: 'aabbaccc', 3: 'aabbac'}\n"
     ]
    }
   ],
   "source": [
    "test = stringCompression()\n",
    "test.run() "
   ]
  },
  {
   "cell_type": "code",
   "execution_count": 8,
   "metadata": {},
   "outputs": [
    {
     "ename": "TypeError",
     "evalue": "object of type 'NoneType' has no len()",
     "output_type": "error",
     "traceback": [
      "\u001b[1;31m---------------------------------------------------------------------------\u001b[0m",
      "\u001b[1;31mTypeError\u001b[0m                                 Traceback (most recent call last)",
      "\u001b[1;32m~\\AppData\\Local\\Temp/ipykernel_20584/597994717.py\u001b[0m in \u001b[0;36m<module>\u001b[1;34m\u001b[0m\n\u001b[1;32m----> 1\u001b[1;33m \u001b[0mlen\u001b[0m\u001b[1;33m(\u001b[0m\u001b[1;32mNone\u001b[0m\u001b[1;33m)\u001b[0m\u001b[1;33m\u001b[0m\u001b[1;33m\u001b[0m\u001b[0m\n\u001b[0m",
      "\u001b[1;31mTypeError\u001b[0m: object of type 'NoneType' has no len()"
     ]
    }
   ],
   "source": [
    "len(None)"
   ]
  },
  {
   "cell_type": "code",
   "execution_count": null,
   "metadata": {},
   "outputs": [],
   "source": []
  }
 ],
 "metadata": {
  "kernelspec": {
   "display_name": "base",
   "language": "python",
   "name": "python3"
  },
  "language_info": {
   "codemirror_mode": {
    "name": "ipython",
    "version": 3
   },
   "file_extension": ".py",
   "mimetype": "text/x-python",
   "name": "python",
   "nbconvert_exporter": "python",
   "pygments_lexer": "ipython3",
   "version": "3.9.7"
  },
  "orig_nbformat": 4,
  "vscode": {
   "interpreter": {
    "hash": "f08154012ddadd8e950e6e9e035c7a7b32c136e7647e9b7c77e02eb723a8bedb"
   }
  }
 },
 "nbformat": 4,
 "nbformat_minor": 2
}
