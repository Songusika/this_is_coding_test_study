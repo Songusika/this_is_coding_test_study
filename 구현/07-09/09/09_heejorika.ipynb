{
 "cells": [
  {
   "cell_type": "code",
   "execution_count": 6,
   "metadata": {},
   "outputs": [],
   "source": [
    "class string:\n",
    "    def __init__(self):\n",
    "        self.s = None\n",
    "        self.S_MIN = 1\n",
    "        self.S_MAX = 1000\n",
    "        \n",
    "    def checkInputMinMax(self, value):\n",
    "        return len(value)>=self.S_MIN and len(value)<=self.S_MAX\n",
    "    \n",
    "    def isSmallLetter(self, value): # 영문 소문자 아스키코드 97~122\n",
    "        for v in value:\n",
    "            if ord(v)<97 or ord(v)>122: return False\n",
    "        return True\n",
    "    \n",
    "    def inputS(self):\n",
    "        try:\n",
    "            s = input() \n",
    "        except TypeError: # 문자열이 아닌 경우\n",
    "            print(\"알파벳 소문자만 입력하세요.\")\n",
    "            return self.inputS()\n",
    "        if self.checkInputMinMax(s) and self.isSmallLetter(s): return s\n",
    "        else: print(\"잘못된 입력.\"); return self.inputS()\n",
    "        \n",
    "    def inputValue(self):\n",
    "        self.s = self.inputS()"
   ]
  },
  {
   "cell_type": "code",
   "execution_count": 7,
   "metadata": {},
   "outputs": [
    {
     "name": "stdout",
     "output_type": "stream",
     "text": [
      "잘못된 입력.\n",
      "잘못된 입력.\n",
      "ddddd\n"
     ]
    }
   ],
   "source": [
    "test = string()\n",
    "test.inputValue()\n",
    "print(test.s)"
   ]
  },
  {
   "cell_type": "code",
   "execution_count": null,
   "metadata": {},
   "outputs": [],
   "source": [
    "class stringCompression:\n",
    "    def __init__(self):\n",
    "        self.string = None\n",
    "        self.unit_dic = dict()\n",
    "        self.compressedStr = None\n",
    "        \n",
    "    def splitStr(self, unit):\n",
    "        \n",
    "    def solution(self, s):\n",
    "        for i in range(1, len(s)):\n",
    "            self.splitStr() # 여기도 값을 전달하는게 나을까. 아니면 인스턴스 변수 사용?\n",
    "        \n",
    "    def run(self):\n",
    "        self.string = string(); self.string.inputValue()\n",
    "        self.solution(self.string.s)"
   ]
  }
 ],
 "metadata": {
  "kernelspec": {
   "display_name": "base",
   "language": "python",
   "name": "python3"
  },
  "language_info": {
   "codemirror_mode": {
    "name": "ipython",
    "version": 3
   },
   "file_extension": ".py",
   "mimetype": "text/x-python",
   "name": "python",
   "nbconvert_exporter": "python",
   "pygments_lexer": "ipython3",
   "version": "3.9.7"
  },
  "orig_nbformat": 4,
  "vscode": {
   "interpreter": {
    "hash": "f08154012ddadd8e950e6e9e035c7a7b32c136e7647e9b7c77e02eb723a8bedb"
   }
  }
 },
 "nbformat": 4,
 "nbformat_minor": 2
}
