{
 "cells": [
  {
   "cell_type": "code",
   "execution_count": 2,
   "metadata": {},
   "outputs": [],
   "source": [
    "class string:\n",
    "    def __init__(self):\n",
    "        self.s = None\n",
    "        self.S_MIN = 1\n",
    "        self.S_MAX = 1000\n",
    "        \n",
    "    def checkInputMinMax(self, value):\n",
    "        return len(value)>=self.S_MIN and len(value)<=self.S_MAX\n",
    "    \n",
    "    def isSmallLetter(self, value): # 영문 소문자 아스키코드 97~122\n",
    "        return ord(value)>=97 and ord(value)<=122\n",
    "    \n",
    "    def inputS(self):\n",
    "        s = input()\n",
    "        if self.checkInputMinMax(s) and self.isSmallLetter(s): return s\n",
    "        else: print(\"잘못된 입력.\"); return self.inputS()\n",
    "        \n",
    "    def inputValue(self):\n",
    "        self.s = self.inputS()"
   ]
  },
  {
   "cell_type": "code",
   "execution_count": null,
   "metadata": {},
   "outputs": [],
   "source": []
  }
 ],
 "metadata": {
  "kernelspec": {
   "display_name": "base",
   "language": "python",
   "name": "python3"
  },
  "language_info": {
   "codemirror_mode": {
    "name": "ipython",
    "version": 3
   },
   "file_extension": ".py",
   "mimetype": "text/x-python",
   "name": "python",
   "nbconvert_exporter": "python",
   "pygments_lexer": "ipython3",
   "version": "3.9.7"
  },
  "orig_nbformat": 4,
  "vscode": {
   "interpreter": {
    "hash": "f08154012ddadd8e950e6e9e035c7a7b32c136e7647e9b7c77e02eb723a8bedb"
   }
  }
 },
 "nbformat": 4,
 "nbformat_minor": 2
}
