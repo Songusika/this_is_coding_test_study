{
 "cells": [
  {
   "cell_type": "code",
   "execution_count": 15,
   "metadata": {},
   "outputs": [],
   "source": [
    "class string:\n",
    "    def __init__(self):\n",
    "        self.s = None\n",
    "        self.S_MIN = 1\n",
    "        self.S_MAX = 1000\n",
    "        \n",
    "    def checkInputMinMax(self, value):\n",
    "        return len(value)>=self.S_MIN and len(value)<=self.S_MAX\n",
    "    \n",
    "    def isSmallLetter(self, value): # 영문 소문자 아스키코드 97~122\n",
    "        for v in value:\n",
    "            if ord(v)<97 or ord(v)>122: return False\n",
    "        return True\n",
    "    \n",
    "    def inputS(self):\n",
    "        try:\n",
    "            s = input() \n",
    "        except TypeError: # 문자열이 아닌 경우\n",
    "            print(\"알파벳 소문자만 입력하세요.\")\n",
    "            return self.inputS()\n",
    "        if self.checkInputMinMax(s) and self.isSmallLetter(s): return s\n",
    "        else: print(\"잘못된 입력.\"); return self.inputS()\n",
    "        \n",
    "    def inputValue(self):\n",
    "        self.s = self.inputS()"
   ]
  },
  {
   "cell_type": "code",
   "execution_count": 16,
   "metadata": {},
   "outputs": [],
   "source": [
    "class stringCompression:\n",
    "    def __init__(self):\n",
    "        self.string = None\n",
    "        self.unit_dic = dict()\n",
    "        self.compressedStr = None\n",
    "        \n",
    "    def splitStr(self, unit):\n",
    "        split_list = []\n",
    "        for i in range(len(self.string.s)//unit):\n",
    "            split_list.append(self.string.s[i*unit:(i+1)*unit])\n",
    "        return split_list\n",
    "        \n",
    "    def strCompression(self, value):\n",
    "        count = 1 \n",
    "        compressedStr = \"\"\n",
    "        \n",
    "        for i in range(1, len(value)):\n",
    "            previous, current = i-1, i\n",
    "            if value[previous] == value[current]: count+=1\n",
    "            else: \n",
    "                compressedStr+=str(count)+value[previous]\n",
    "                count=1\n",
    "    \n",
    "    def solution(self, s):\n",
    "        length_list = []\n",
    "        for unit in range(1, len(s)//2):\n",
    "            compressedStr = self.strCompression(self.splitStr(unit)) \n",
    "            self.unit_dic[unit] = compressedStr\n",
    "            length_list.append(len(compressedStr))\n",
    "            \n",
    "        return min(length_list)\n",
    "        \n",
    "    def run(self):\n",
    "        self.string = string(); self.string.inputValue()\n",
    "        self.solution(self.string.s)"
   ]
  },
  {
   "cell_type": "code",
   "execution_count": null,
   "metadata": {},
   "outputs": [],
   "source": [
    "test = "
   ]
  }
 ],
 "metadata": {
  "kernelspec": {
   "display_name": "base",
   "language": "python",
   "name": "python3"
  },
  "language_info": {
   "codemirror_mode": {
    "name": "ipython",
    "version": 3
   },
   "file_extension": ".py",
   "mimetype": "text/x-python",
   "name": "python",
   "nbconvert_exporter": "python",
   "pygments_lexer": "ipython3",
   "version": "3.9.7"
  },
  "orig_nbformat": 4,
  "vscode": {
   "interpreter": {
    "hash": "f08154012ddadd8e950e6e9e035c7a7b32c136e7647e9b7c77e02eb723a8bedb"
   }
  }
 },
 "nbformat": 4,
 "nbformat_minor": 2
}
