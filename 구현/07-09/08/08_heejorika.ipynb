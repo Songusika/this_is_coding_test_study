{
 "cells": [
  {
   "cell_type": "code",
   "execution_count": 27,
   "metadata": {},
   "outputs": [],
   "source": [
    "class sortedStr:\n",
    "    def __init__(self):\n",
    "        self.S = None\n",
    "        self.sortedS = None\n",
    "        self.S_MIN = 1\n",
    "        self.S_MAX = 10000\n",
    "        \n",
    "    def inputValue(self):\n",
    "        s = input()\n",
    "        if self.checkValueMinMax(len(s)):\n",
    "            if self.checkValidateInput(s): return s\n",
    "            else: print(\"숫자 혹은 영어 대문자를 입력하세요\")\n",
    "        else: print(str(self.S_MIN)+\" 이상 \"+str(self.S_MAX)+\" 이하 입력하세요.\")\n",
    "        \n",
    "        return self.inputValue()\n",
    "        \n",
    "    def checkValueMinMax(self, value):\n",
    "        return self.S_MIN <= value and self.S_MAX >= value\n",
    "    \n",
    "    def checkValidateInput(self, value):  # 숫자 : 48~57, 대문자 : 65~90\n",
    "        for v in value:\n",
    "            if ord(v)<48 and ord(v)>57 or ord(v)<65 and ord(v)>90: return False \n",
    "        return True\n",
    "        \n",
    "    def splitStrNum(self, value):\n",
    "        alpha_index = 0\n",
    "        for v in value: \n",
    "            if v.isalpha():\n",
    "                alpha_index = value.index(v)  # 알파벳이 처음 시작하는 인덱스 \n",
    "                break\n",
    "        \n",
    "        return value[:alpha_index], ''.join(v for v in value[alpha_index:])  # 리스트-> 문자열\n",
    "    \n",
    "    def sumNum(self, value):\n",
    "        result = 0\n",
    "        for v in value: result+=int(v)\n",
    "        return result  \n",
    "    \n",
    "    def run(self):\n",
    "        self.S = self.inputValue()\n",
    "        num, string = self.splitStrNum(sorted(self.S))  # 이런 경우 명시적으로 매개변수를 넘겨주는게 더 유용할까 아니면 인스턴스 변수를 사용하는 게 더 유용할까\n",
    "        sum_num = self.sumNum(num)\n",
    "        self.sortedS = string+str(sum_num)  "
   ]
  },
  {
   "cell_type": "code",
   "execution_count": 28,
   "metadata": {},
   "outputs": [
    {
     "name": "stdout",
     "output_type": "stream",
     "text": [
      "ABCKK13\n"
     ]
    }
   ],
   "source": [
    "test = sortedStr()\n",
    "test.run()\n",
    "print(test.sortedS)"
   ]
  },
  {
   "cell_type": "code",
   "execution_count": null,
   "metadata": {},
   "outputs": [],
   "source": []
  }
 ],
 "metadata": {
  "kernelspec": {
   "display_name": "base",
   "language": "python",
   "name": "python3"
  },
  "language_info": {
   "codemirror_mode": {
    "name": "ipython",
    "version": 3
   },
   "file_extension": ".py",
   "mimetype": "text/x-python",
   "name": "python",
   "nbconvert_exporter": "python",
   "pygments_lexer": "ipython3",
   "version": "3.9.7"
  },
  "orig_nbformat": 4,
  "vscode": {
   "interpreter": {
    "hash": "f08154012ddadd8e950e6e9e035c7a7b32c136e7647e9b7c77e02eb723a8bedb"
   }
  }
 },
 "nbformat": 4,
 "nbformat_minor": 2
}
