{
 "cells": [
  {
   "cell_type": "code",
   "execution_count": 14,
   "metadata": {},
   "outputs": [
    {
     "data": {
      "text/plain": [
       "['1', '5', '7', 'A', 'C', 'K', 'K', 'ㅎ']"
      ]
     },
     "execution_count": 14,
     "metadata": {},
     "output_type": "execute_result"
    }
   ],
   "source": [
    "a = \"K1KA5Cㅎ7\"\n",
    "sorted(a)"
   ]
  },
  {
   "cell_type": "code",
   "execution_count": null,
   "metadata": {},
   "outputs": [],
   "source": [
    "class sortedStr:\n",
    "    def __init__(self):\n",
    "        self.S = None\n",
    "        self.S_MIN = 1\n",
    "        self.S_MAX = 10000\n",
    "        \n",
    "    def inputValue(self):\n",
    "        s = input()\n",
    "        if self.checkValueMinMax(s) and self.checkValidateInput(s): return s\n",
    "        return self.inputValue()\n",
    "        \n",
    "    def checkValueMinMax(self, value):\n",
    "        return self.S_MIN >= value and self.S <= self.S_MAX\n",
    "    \n",
    "    def checkValidateInput(self, value):  # 숫자 : 48~57, 대문자 : 65~90\n",
    "        if value<48 or value>57: return False \n",
    "        if value<65 or value>90: return False\n",
    "        return True\n",
    "        \n",
    "    def splitStrNum(self):\n",
    "        \n",
    "    def sortedValue(self, value):\n",
    "        \n",
    "    \n",
    "    def run(self):\n",
    "        self.S = self.inputValue()\n",
    "        num, string = self.splitStrNum()  # 이런 경우 명시적으로 매개변수를 넘겨주는게 더 유용할까 아니면 인스턴스 변수를 사용하는 게 더 유용할까"
   ]
  }
 ],
 "metadata": {
  "kernelspec": {
   "display_name": "base",
   "language": "python",
   "name": "python3"
  },
  "language_info": {
   "codemirror_mode": {
    "name": "ipython",
    "version": 3
   },
   "file_extension": ".py",
   "mimetype": "text/x-python",
   "name": "python",
   "nbconvert_exporter": "python",
   "pygments_lexer": "ipython3",
   "version": "3.9.7"
  },
  "orig_nbformat": 4,
  "vscode": {
   "interpreter": {
    "hash": "f08154012ddadd8e950e6e9e035c7a7b32c136e7647e9b7c77e02eb723a8bedb"
   }
  }
 },
 "nbformat": 4,
 "nbformat_minor": 2
}
