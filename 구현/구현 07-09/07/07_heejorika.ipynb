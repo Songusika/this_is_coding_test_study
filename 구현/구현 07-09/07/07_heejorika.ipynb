{
 "cells": [
  {
   "cell_type": "code",
   "execution_count": 50,
   "metadata": {},
   "outputs": [],
   "source": [
    "class character:\n",
    "    def __init__(self):\n",
    "        self.N = None\n",
    "        self.N_MIN = 10\n",
    "        self.N_MAX = 99999999\n",
    "        \n",
    "    def inputValue(self):\n",
    "        try:\n",
    "            N = int(input())\n",
    "            return N\n",
    "        except ValueError:\n",
    "            print(\"정수형만 입력하세요\") \n",
    "            return self.inputValue()\n",
    "        except:\n",
    "            print(\"입력 에러\")\n",
    "            return self.inputValue()\n",
    "\n",
    "    def isEvenNumber(self, value):\n",
    "        return True if len(str(value))%2==0 else False\n",
    "        \n",
    "    def validateNumber(self, value):\n",
    "        return value>=self.N_MIN and value<=self.N_MAX\n",
    "    \n",
    "    def validateScore(self):\n",
    "        N = self.inputValue()\n",
    "        \n",
    "        if not(self.isEvenNumber(N)):\n",
    "            print(\"짝수 개수로 입력하세요.\")\n",
    "            return self.validateScore()\n",
    "        if not(self.validateNumber(N)):\n",
    "            print(str(self.N_MIN)+\" 이상 \"+str(self.N_MAX)+\" 이하의 값을 입력하세요.\")\n",
    "            return self.validateScore()\n",
    "        \n",
    "        return str(N)\n",
    "    \n",
    "    def inputNowScore(self):\n",
    "        self.N = self.validateScore()"
   ]
  },
  {
   "cell_type": "code",
   "execution_count": 53,
   "metadata": {},
   "outputs": [],
   "source": [
    "class game:\n",
    "    def __init__(self):\n",
    "        self.user = None\n",
    "        \n",
    "    def sumList(self, value):\n",
    "        score = 0\n",
    "        for v in value: score+=int(v)\n",
    "        return score\n",
    "        \n",
    "    def spacialMove(self):\n",
    "        mid = len(self.user.N)//2\n",
    "        left_score = self.sumList(list(self.user.N[:mid]))\n",
    "        right_score = self.sumList(list(self.user.N[mid:]))\n",
    "        \n",
    "        return \"LUCKY\" if left_score==right_score else \"READY\"\n",
    "\n",
    "    def gameStart(self):\n",
    "        self.user = character()\n",
    "        self.user.inputNowScore()  # 현재 캐릭터 점수를 문자열로 받아옴\n",
    "        print(self.spacialMove())"
   ]
  },
  {
   "cell_type": "code",
   "execution_count": 55,
   "metadata": {},
   "outputs": [
    {
     "name": "stdout",
     "output_type": "stream",
     "text": [
      "LUCKY\n"
     ]
    }
   ],
   "source": [
    "a =game()\n",
    "a.gameStart()"
   ]
  },
  {
   "cell_type": "code",
   "execution_count": null,
   "metadata": {},
   "outputs": [],
   "source": []
  }
 ],
 "metadata": {
  "kernelspec": {
   "display_name": "base",
   "language": "python",
   "name": "python3"
  },
  "language_info": {
   "codemirror_mode": {
    "name": "ipython",
    "version": 3
   },
   "file_extension": ".py",
   "mimetype": "text/x-python",
   "name": "python",
   "nbconvert_exporter": "python",
   "pygments_lexer": "ipython3",
   "version": "3.9.7 (default, Sep 16 2021, 16:59:28) [MSC v.1916 64 bit (AMD64)]"
  },
  "orig_nbformat": 4,
  "vscode": {
   "interpreter": {
    "hash": "f08154012ddadd8e950e6e9e035c7a7b32c136e7647e9b7c77e02eb723a8bedb"
   }
  }
 },
 "nbformat": 4,
 "nbformat_minor": 2
}
