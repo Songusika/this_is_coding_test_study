{
 "cells": [
  {
   "cell_type": "code",
   "execution_count": null,
   "metadata": {},
   "outputs": [],
   "source": [
    "class waguwagu:\n",
    "    def __init__(self):\n",
    "        self.food_times, self.K, self.food_time_zeroL = None, None, list()\n",
    "        self.pointer = 0  # 결과값\n",
    "        \n",
    "    def findNextPointer(self, currentPointer):\n",
    "        if currentPointer+1 >= len(self.food_times): nextPointer = 0\n",
    "        else: nextPointer = currentPointer+1\n",
    "        \n",
    "        if nextPointer in self.food_time_zeroL:\n",
    "            return self.findNextPointer(nextPointer)\n",
    "        return nextPointer\n",
    "    \n",
    "    def solution(self):\n",
    "        for i in range(self.K):        \n",
    "            self.food_times[self.pointer] = self.food_times[self.pointer]-1  # 와구와구\n",
    "            # 음식 다 먹었으면 ZEROl에 추가\n",
    "            if self.food_times[self.pointer]==0: self.food_time_zeroL.append(self.pointer)  \n",
    "            print(self.food_times)\n",
    "            # 남은 음식이 없으면 -1 반환 \n",
    "            if len(self.food_times) == len(self.food_time_zeroL): \n",
    "                pointer = -1 # 남은 음식이 없음\n",
    "                break\n",
    "            # 다음 POINTER 찾기\n",
    "            self.pointer = self.findNextPointer(self.pointer)\n",
    "\n",
    "        return self.pointer+1 # 왜냐면 POINTER는 인덱스고 음식번호는 1번부터 시작함"
   ]
  },
  {
   "cell_type": "code",
   "execution_count": 20,
   "metadata": {},
   "outputs": [],
   "source": [
    "def findNextPointer(currentPointer, food_times, food_time_zeroL):\n",
    "    if currentPointer+1 >= len(food_times): nextPointer = 0\n",
    "    else: nextPointer = currentPointer+1\n",
    "    \n",
    "    if nextPointer in food_time_zeroL:\n",
    "        return findNextPointer(nextPointer, food_times, food_time_zeroL)\n",
    "    return nextPointer\n",
    "\n",
    "def solution(K, food_times, food_time_zeroL):\n",
    "    pointer = 0 \n",
    "    for i in range(K):        \n",
    "        food_times[pointer] = food_times[pointer]-1  # 와구와구\n",
    "        # 음식 다 먹었으면 ZEROl에 추가\n",
    "        if food_times[pointer]==0: food_time_zeroL.append(pointer)  \n",
    "        print(food_times)\n",
    "        # 남은 음식이 없으면 -1 반환 \n",
    "        if len(food_times) == len(food_time_zeroL): \n",
    "            pointer = -1 # 남은 음식이 없음\n",
    "            break\n",
    "        # 다음 POINTER 찾기\n",
    "        pointer = findNextPointer(pointer, food_times, food_time_zeroL)\n",
    "\n",
    "    return pointer+1 # 왜냐면 POINTER는 인덱스고 음식번호는 1번부터 시작함"
   ]
  },
  {
   "cell_type": "code",
   "execution_count": 21,
   "metadata": {},
   "outputs": [
    {
     "name": "stdout",
     "output_type": "stream",
     "text": [
      "[2, 1, 2]\n",
      "[2, 0, 2]\n",
      "[2, 0, 1]\n",
      "[1, 0, 1]\n",
      "[1, 0, 0]\n"
     ]
    },
    {
     "data": {
      "text/plain": [
       "1"
      ]
     },
     "execution_count": 21,
     "metadata": {},
     "output_type": "execute_result"
    }
   ],
   "source": [
    "K=5\n",
    "food_times = [3,1,2]\n",
    "food_time_zeroL = []\n",
    "\n",
    "solution(K, food_times, food_time_zeroL)"
   ]
  },
  {
   "cell_type": "code",
   "execution_count": 7,
   "metadata": {},
   "outputs": [
    {
     "name": "stdout",
     "output_type": "stream",
     "text": [
      "야호\n"
     ]
    },
    {
     "data": {
      "text/plain": [
       "0"
      ]
     },
     "execution_count": 7,
     "metadata": {},
     "output_type": "execute_result"
    }
   ],
   "source": [
    "findNextPointer(0)"
   ]
  },
  {
   "cell_type": "code",
   "execution_count": 31,
   "metadata": {},
   "outputs": [
    {
     "name": "stdout",
     "output_type": "stream",
     "text": [
      "[4, 2, 1, 1, 6]\n",
      "[4, 1, 1, 1, 6]\n",
      "[4, 1, 0, 1, 6]\n",
      "[4, 1, 0, 0, 6]\n",
      "[4, 1, 0, 0, 5]\n",
      "[3, 1, 0, 0, 5]\n",
      "[3, 0, 0, 0, 5]\n"
     ]
    },
    {
     "data": {
      "text/plain": [
       "5"
      ]
     },
     "execution_count": 31,
     "metadata": {},
     "output_type": "execute_result"
    }
   ],
   "source": [
    "\n",
    "solution()"
   ]
  },
  {
   "cell_type": "code",
   "execution_count": 6,
   "metadata": {},
   "outputs": [],
   "source": [
    "def checkInputValueDigit_True(value):\n",
    "    return value.isdigit()"
   ]
  },
  {
   "cell_type": "code",
   "execution_count": 7,
   "metadata": {},
   "outputs": [],
   "source": [
    "def checkInputValueMinMax_True(value, valueMin, valueMax):\n",
    "    return value>=valueMin and value<=valueMax"
   ]
  },
  {
   "cell_type": "code",
   "execution_count": 8,
   "metadata": {},
   "outputs": [],
   "source": [
    "def checkInputValueMinMax_Ment(valueMin, valueMax):\n",
    "    return str(valueMin) + \" 이상 \" + str(valueMax) + \" 이하 숫자를 입력해주세요.\""
   ]
  },
  {
   "cell_type": "code",
   "execution_count": 3,
   "metadata": {},
   "outputs": [],
   "source": [
    "FOOD_TIME_MIN, FOOD_TIME_MAX = 1, 1000\n",
    "FOOD_TIME_LENGTH_MIN, FOOD_TIME_LENGTH_MAX = 1, 2000\n",
    "K_MIN, K_MAX = 1, 2000000\n",
    "\n",
    "def inputK():\n",
    "    while(1):\n",
    "        K = input()\n",
    "        if not(checkInputValueDigit_True(K)):\n",
    "            print(\"숫자를 입력해주세요.\"); continue\n",
    "        if not(checkInputValueMinMax_True(int(K), K_MIN, K_MAX)): \n",
    "            print(checkInputValueMinMax_Ment(K_MIN, K_MAX)); continue\n",
    "        break\n",
    "    return K"
   ]
  },
  {
   "cell_type": "code",
   "execution_count": 11,
   "metadata": {},
   "outputs": [],
   "source": [
    "flag = True\n",
    "while(flag):\n",
    "    food_times = input().split()\n",
    "    if not(checkInputValueMinMax_True(len(food_times), FOOD_TIME_LENGTH_MIN, FOOD_TIME_LENGTH_MAX)): \n",
    "        print(checkInputValueMinMax_Ment(FOOD_TIME_LENGTH_MIN, FOOD_TIME_LENGTH_MAX))\n",
    "        continue\n",
    "\n",
    "    count = 0\n",
    "    for food in food_times:\n",
    "        count+=1\n",
    "        if not(checkInputValueDigit_True(food)): \n",
    "            print(\"숫자를 입력해주세요.\")\n",
    "            break\n",
    "        if not(checkInputValueMinMax_True(int(food), FOOD_TIME_MIN, FOOD_TIME_MAX)):\n",
    "            print(checkInputValueMinMax_Ment(FOOD_TIME_MIN, FOOD_TIME_MAX))\n",
    "            break\n",
    "        if food==food_times[-1]: flag=False"
   ]
  },
  {
   "cell_type": "code",
   "execution_count": null,
   "metadata": {},
   "outputs": [],
   "source": [
    "# def inputValue():\n",
    "#     food_times = inputFoodTimes()\n",
    "#     K = inputK()"
   ]
  }
 ],
 "metadata": {
  "kernelspec": {
   "display_name": "Python 3",
   "language": "python",
   "name": "python3"
  },
  "language_info": {
   "codemirror_mode": {
    "name": "ipython",
    "version": 3
   },
   "file_extension": ".py",
   "mimetype": "text/x-python",
   "name": "python",
   "nbconvert_exporter": "python",
   "pygments_lexer": "ipython3",
   "version": "3.8.10 (tags/v3.8.10:3d8993a, May  3 2021, 11:48:03) [MSC v.1928 64 bit (AMD64)]"
  },
  "orig_nbformat": 4,
  "vscode": {
   "interpreter": {
    "hash": "f544ce1a915a9875fad91c894e2c0bcad4b7a79945aa6027ef3ad27810072aa6"
   }
  }
 },
 "nbformat": 4,
 "nbformat_minor": 2
}
