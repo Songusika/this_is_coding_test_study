{
 "cells": [
  {
   "cell_type": "code",
   "execution_count": null,
   "metadata": {},
   "outputs": [],
   "source": [
    "class waguwagu:\n",
    "    def __init__(self):\n",
    "        self.food_times, self.K, self.food_time_zeroL = None, None, None\n",
    "        self.pointer = None  # 결과값\n",
    "        \n",
    "    def findNextPointer(self, currentPointer):\n",
    "        if currentPointer+1 >= len(self.food_times): nextPointer = 0\n",
    "        else: nextPointer = currentPointer+1\n",
    "        \n",
    "        if nextPointer in self.food_time_zeroL:\n",
    "            return self.findNextPointer(nextPointer)\n",
    "        return nextPointer"
   ]
  },
  {
   "cell_type": "code",
   "execution_count": 19,
   "metadata": {},
   "outputs": [],
   "source": [
    "def findNextPointer(currentPointer, food_times, food_time_zeroL):\n",
    "    if currentPointer+1 >= len(food_times): nextPointer = 0\n",
    "    else: nextPointer = currentPointer+1\n",
    "    \n",
    "    if nextPointer in food_time_zeroL:\n",
    "        return findNextPointer(nextPointer, food_times, food_time_zeroL)\n",
    "    return nextPointer"
   ]
  },
  {
   "cell_type": "code",
   "execution_count": 7,
   "metadata": {},
   "outputs": [
    {
     "name": "stdout",
     "output_type": "stream",
     "text": [
      "야호\n"
     ]
    },
    {
     "data": {
      "text/plain": [
       "0"
      ]
     },
     "execution_count": 7,
     "metadata": {},
     "output_type": "execute_result"
    }
   ],
   "source": [
    "findNextPointer(0)"
   ]
  },
  {
   "cell_type": "code",
   "execution_count": 30,
   "metadata": {},
   "outputs": [],
   "source": [
    "\n",
    "\n",
    "def solution():\n",
    "    food_times = [5,2,1,1,6]\n",
    "    food_time_zeroL = []\n",
    "    pointer = 0\n",
    "    K = 7\n",
    "    \n",
    "    for i in range(K):        \n",
    "        food_times[pointer] = food_times[pointer]-1  # 와구와구\n",
    "        # 음식 다 먹었으면 ZEROl에 추가\n",
    "        if food_times[pointer]==0: food_time_zeroL.append(pointer)  \n",
    "        #print(food_times)\n",
    "        # 남은 음식이 없으면 -1 반환 \n",
    "        if len(food_times) == len(food_time_zeroL): \n",
    "            pointer = -1 # 남은 음식이 없음\n",
    "            break\n",
    "        # 다음 POINTER 찾기\n",
    "        pointer = findNextPointer(pointer, food_times, food_time_zeroL)\n",
    "\n",
    "    return pointer+1 # 왜냐면 POINTER는 인덱스고 음식번호는 1번부터 시작함"
   ]
  },
  {
   "cell_type": "code",
   "execution_count": 31,
   "metadata": {},
   "outputs": [
    {
     "name": "stdout",
     "output_type": "stream",
     "text": [
      "[4, 2, 1, 1, 6]\n",
      "[4, 1, 1, 1, 6]\n",
      "[4, 1, 0, 1, 6]\n",
      "[4, 1, 0, 0, 6]\n",
      "[4, 1, 0, 0, 5]\n",
      "[3, 1, 0, 0, 5]\n",
      "[3, 0, 0, 0, 5]\n"
     ]
    },
    {
     "data": {
      "text/plain": [
       "5"
      ]
     },
     "execution_count": 31,
     "metadata": {},
     "output_type": "execute_result"
    }
   ],
   "source": [
    "solution()"
   ]
  },
  {
   "cell_type": "code",
   "execution_count": null,
   "metadata": {},
   "outputs": [],
   "source": []
  }
 ],
 "metadata": {
  "kernelspec": {
   "display_name": "Python 3",
   "language": "python",
   "name": "python3"
  },
  "language_info": {
   "codemirror_mode": {
    "name": "ipython",
    "version": 3
   },
   "file_extension": ".py",
   "mimetype": "text/x-python",
   "name": "python",
   "nbconvert_exporter": "python",
   "pygments_lexer": "ipython3",
   "version": "3.8.10"
  },
  "orig_nbformat": 4,
  "vscode": {
   "interpreter": {
    "hash": "f544ce1a915a9875fad91c894e2c0bcad4b7a79945aa6027ef3ad27810072aa6"
   }
  }
 },
 "nbformat": 4,
 "nbformat_minor": 2
}
