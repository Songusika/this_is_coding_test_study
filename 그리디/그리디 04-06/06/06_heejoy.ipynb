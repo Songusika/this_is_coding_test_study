{
 "cells": [
  {
   "cell_type": "code",
   "execution_count": null,
   "metadata": {},
   "outputs": [],
   "source": [
    "class waguwagu:\n",
    "    def __init__(self):\n",
    "        self.food_times, self.K, self. pointer, self.food_time_zeroL = None, None, None, None \n",
    "        self.result = None  # 결과값\n",
    "        \n",
    "    def findNextPointer(self, currentPointer):"
   ]
  },
  {
   "cell_type": "code",
   "execution_count": 6,
   "metadata": {},
   "outputs": [],
   "source": [
    "food_times = [1,0,0]\n",
    "food_time_zeroL = [1,2]\n",
    "\n",
    "def findNextPointer(currentPointer):\n",
    "    if currentPointer+1 >= len(food_times): nextPointer = 0\n",
    "    else: nextPointer = currentPointer+1\n",
    "    \n",
    "    if nextPointer in food_time_zeroL:\n",
    "        return findNextPointer(nextPointer)\n",
    "    return nextPointer"
   ]
  },
  {
   "cell_type": "code",
   "execution_count": 7,
   "metadata": {},
   "outputs": [
    {
     "name": "stdout",
     "output_type": "stream",
     "text": [
      "야호\n"
     ]
    },
    {
     "data": {
      "text/plain": [
       "0"
      ]
     },
     "execution_count": 7,
     "metadata": {},
     "output_type": "execute_result"
    }
   ],
   "source": [
    "findNextPointer(0)"
   ]
  },
  {
   "cell_type": "code",
   "execution_count": null,
   "metadata": {},
   "outputs": [],
   "source": []
  }
 ],
 "metadata": {
  "kernelspec": {
   "display_name": "base",
   "language": "python",
   "name": "python3"
  },
  "language_info": {
   "codemirror_mode": {
    "name": "ipython",
    "version": 3
   },
   "file_extension": ".py",
   "mimetype": "text/x-python",
   "name": "python",
   "nbconvert_exporter": "python",
   "pygments_lexer": "ipython3",
   "version": "3.9.7"
  },
  "orig_nbformat": 4,
  "vscode": {
   "interpreter": {
    "hash": "f08154012ddadd8e950e6e9e035c7a7b32c136e7647e9b7c77e02eb723a8bedb"
   }
  }
 },
 "nbformat": 4,
 "nbformat_minor": 2
}
