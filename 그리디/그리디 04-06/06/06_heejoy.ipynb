{
 "cells": [
  {
   "cell_type": "code",
   "execution_count": null,
   "metadata": {},
   "outputs": [],
   "source": [
    "class waguwagu:\n",
    "    def __init__(self):\n",
    "        self.food_times, self.K, self.food_time_zeroL = None, None, list()\n",
    "        self.pointer = 0  # 결과값\n",
    "        \n",
    "    def findNextPointer(self, currentPointer):\n",
    "        if currentPointer+1 >= len(self.food_times): nextPointer = 0\n",
    "        else: nextPointer = currentPointer+1\n",
    "        \n",
    "        if nextPointer in self.food_time_zeroL:\n",
    "            return self.findNextPointer(nextPointer)\n",
    "        return nextPointer\n",
    "    \n",
    "    def findNextPointer(self, currentPointer):\n",
    "        if currentPointer+1 >= len(self.food_times): nextPointer = 0\n",
    "        else: nextPointer = currentPointer+1\n",
    "        \n",
    "        if nextPointer in self.food_time_zeroL:\n",
    "            return self.findNextPointer(nextPointer)\n",
    "        return nextPointer\n",
    "    \n",
    "    def solution(self):\n",
    "        for i in range(self.K):        \n",
    "            self.food_times[self.pointer] = self.food_times[self.pointer]-1  # 와구와구\n",
    "            # 음식 다 먹었으면 ZEROl에 추가\n",
    "            if self.food_times[self.pointer]==0: self.food_time_zeroL.append(self.pointer)  \n",
    "            #print(food_times)\n",
    "            # 남은 음식이 없으면 -1 반환 \n",
    "            if len(self.food_times) == len(self.food_time_zeroL): \n",
    "                pointer = -1 # 남은 음식이 없음\n",
    "                break\n",
    "            # 다음 POINTER 찾기\n",
    "            self.pointer = self.findNextPointer(self.pointer, self.food_times, self.food_time_zeroL)\n",
    "\n",
    "        return self.pointer+1 # 왜냐면 POINTER는 인덱스고 음식번호는 1번부터 시작함"
   ]
  },
  {
   "cell_type": "code",
   "execution_count": 7,
   "metadata": {},
   "outputs": [
    {
     "name": "stdout",
     "output_type": "stream",
     "text": [
      "야호\n"
     ]
    },
    {
     "data": {
      "text/plain": [
       "0"
      ]
     },
     "execution_count": 7,
     "metadata": {},
     "output_type": "execute_result"
    }
   ],
   "source": [
    "findNextPointer(0)"
   ]
  },
  {
   "cell_type": "code",
   "execution_count": 31,
   "metadata": {},
   "outputs": [
    {
     "name": "stdout",
     "output_type": "stream",
     "text": [
      "[4, 2, 1, 1, 6]\n",
      "[4, 1, 1, 1, 6]\n",
      "[4, 1, 0, 1, 6]\n",
      "[4, 1, 0, 0, 6]\n",
      "[4, 1, 0, 0, 5]\n",
      "[3, 1, 0, 0, 5]\n",
      "[3, 0, 0, 0, 5]\n"
     ]
    },
    {
     "data": {
      "text/plain": [
       "5"
      ]
     },
     "execution_count": 31,
     "metadata": {},
     "output_type": "execute_result"
    }
   ],
   "source": [
    "\n",
    "solution()"
   ]
  },
  {
   "cell_type": "code",
   "execution_count": 41,
   "metadata": {},
   "outputs": [],
   "source": [
    "def checkInputValueDigit_True(value):\n",
    "    return value.isdigit()"
   ]
  },
  {
   "cell_type": "code",
   "execution_count": 42,
   "metadata": {},
   "outputs": [],
   "source": [
    "def checkInputValueMinMax_True(value, valueMin, valueMax):\n",
    "    return value>=valueMin and value<=valueMax"
   ]
  },
  {
   "cell_type": "code",
   "execution_count": 49,
   "metadata": {},
   "outputs": [
    {
     "name": "stdout",
     "output_type": "stream",
     "text": [
      "1 이상 2000000 이하 숫자를 입력해주세요.\n",
      "숫자를 입력해주세요.\n",
      "숫자를 입력해주세요.\n"
     ]
    }
   ],
   "source": [
    "FOOD_TIME_MIN, FOOD_TIME_MAX = 1, 1000\n",
    "FOOD_TIME_LENGTH_MIN, FOOD_TIME_LENGTH_MAX = 1, 2000\n",
    "K_MIN, K_MAX = 1, 2000000\n",
    "\n",
    "def inputK():\n",
    "    while(1):\n",
    "        K = input()\n",
    "        if not(checkInputValueDigit_True(K)):\n",
    "            print(\"숫자를 입력해주세요.\"); continue\n",
    "        if not(checkInputValueMinMax_True(int(K), K_MIN, K_MAX)): \n",
    "            print(str(K_MIN) + \" 이상 \" + str(K_MAX) + \" 이하 숫자를 입력해주세요.\"); continue\n",
    "        break\n",
    "    return K"
   ]
  },
  {
   "cell_type": "code",
   "execution_count": null,
   "metadata": {},
   "outputs": [],
   "source": []
  }
 ],
 "metadata": {
  "kernelspec": {
   "display_name": "Python 3",
   "language": "python",
   "name": "python3"
  },
  "language_info": {
   "codemirror_mode": {
    "name": "ipython",
    "version": 3
   },
   "file_extension": ".py",
   "mimetype": "text/x-python",
   "name": "python",
   "nbconvert_exporter": "python",
   "pygments_lexer": "ipython3",
   "version": "3.8.10"
  },
  "orig_nbformat": 4,
  "vscode": {
   "interpreter": {
    "hash": "f544ce1a915a9875fad91c894e2c0bcad4b7a79945aa6027ef3ad27810072aa6"
   }
  }
 },
 "nbformat": 4,
 "nbformat_minor": 2
}
