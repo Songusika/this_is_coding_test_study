{
 "cells": [
  {
   "cell_type": "code",
   "execution_count": 2,
   "metadata": {},
   "outputs": [],
   "source": [
    "from itertools import combinations\n",
    "\n",
    "N_MIN, N_MAX = 1, 1000\n",
    "M_MIN, M_MAX = 1, 10\n",
    "\n",
    "class findBallCombination:\n",
    "    def __init__(self):\n",
    "        self.N, self.M, self.ball_list = None,None,None  # 입력값\n",
    "        self.ball_combination_list = None                # 출력값\n",
    "        \n",
    "    def checkAlpha_True(self, value):  # 입력받은 리스트 내 원소 중 문자가 있으면 True 반환\n",
    "        for v in value: \n",
    "            if v.isalpha(): return True\n",
    "            \n",
    "    def checkValueMinMax_True(self, value, value_min, value_max):   # 최솟값, 최댓값 만족하는지\n",
    "        return value<=value_max and value>=value_min\n",
    "    \n",
    "    def valueMinMax_Ment(self, valueMin, valueMax):\n",
    "        return str(valueMin) + \" 이상 \" + str(valueMax) + \" 이하 값을 입력해주세요!\"\n",
    "\n",
    "    def inputValue(self, value_len):\n",
    "        value = 1\n",
    "        while(value):\n",
    "            value = input().split() \n",
    "            if len(value) != value_len: \n",
    "                print(value_len, \"개 입력해주세요!\")\n",
    "                continue  # 길이가 맞는지\n",
    "            if self.checkAlpha_True(value): \n",
    "                print(\"숫자만 입력해주세요!\")\n",
    "                continue   # 리스트 내 문자가 있는지    \n",
    "            break\n",
    "        return map(int, value)\n",
    "\n",
    "    def inputNM(self):\n",
    "        while(1):\n",
    "            N, M = self.inputValue(2)\n",
    "            if self.checkValueMinMax_True(N, N_MIN, N_MAX) and self.checkValueMinMax_True(M, M_MIN, M_MAX): break\n",
    "            else: \n",
    "                print(\"첫번째 수는 \"+self.valueMinMax_Ment(N_MIN, N_MAX))\n",
    "                print(\"두번째 수는 \"+self.valueMinMax_Ment(M_MIN, M_MAX))\n",
    "        return N, M\n",
    "\n",
    "    def inputBallList(self):\n",
    "        ball_list = 0\n",
    "        while(not(ball_list)):\n",
    "            ball_list = list(self.inputValue(self.N))\n",
    "            for ball in ball_list: \n",
    "                if not(self.checkValueMinMax_True(ball, M_MIN, self.M)): \n",
    "                    print(self.valueMinMax_Ment(M_MIN, self.M))\n",
    "                    ball_list = 0\n",
    "                    break\n",
    "        return ball_list\n",
    "\n",
    "    def find_combination(self, people):\n",
    "        self.ball_combination_list = list(combinations(self.ball_list, people))\n",
    "        return len(self.ball_combination_list)\n",
    "    \n",
    "    def run(self):\n",
    "        self.N, self.M = self.inputNM()\n",
    "        self.ball_list = self.inputBallList()\n",
    "        print(self.find_combination(2))"
   ]
  },
  {
   "cell_type": "code",
   "execution_count": 4,
   "metadata": {},
   "outputs": [
    {
     "data": {
      "text/plain": [
       "[(1, 3),\n",
       " (1, 2),\n",
       " (1, 3),\n",
       " (1, 2),\n",
       " (3, 2),\n",
       " (3, 3),\n",
       " (3, 2),\n",
       " (2, 3),\n",
       " (2, 2),\n",
       " (3, 2)]"
      ]
     },
     "execution_count": 4,
     "metadata": {},
     "output_type": "execute_result"
    }
   ],
   "source": [
    "list(combinations([1,3,2,3,2],2))"
   ]
  },
  {
   "cell_type": "code",
   "execution_count": 74,
   "metadata": {},
   "outputs": [
    {
     "name": "stdout",
     "output_type": "stream",
     "text": [
      "2 개 입력해주세요!\n",
      "1 이상 6 이하 값을 입력해주세요!\n",
      "5 개 입력해주세요!\n",
      "10\n"
     ]
    }
   ],
   "source": [
    "if __name__ == \"__main__\":\n",
    "    test = findBallCombination()\n",
    "    test.run()\n",
    "    "
   ]
  },
  {
   "cell_type": "code",
   "execution_count": 75,
   "metadata": {},
   "outputs": [
    {
     "data": {
      "text/plain": [
       "[(1, 2),\n",
       " (1, 3),\n",
       " (1, 5),\n",
       " (1, 5),\n",
       " (2, 3),\n",
       " (2, 5),\n",
       " (2, 5),\n",
       " (3, 5),\n",
       " (3, 5),\n",
       " (5, 5)]"
      ]
     },
     "execution_count": 75,
     "metadata": {},
     "output_type": "execute_result"
    }
   ],
   "source": [
    "test.ball_combination_list"
   ]
  }
 ],
 "metadata": {
  "kernelspec": {
   "display_name": "base",
   "language": "python",
   "name": "python3"
  },
  "language_info": {
   "codemirror_mode": {
    "name": "ipython",
    "version": 3
   },
   "file_extension": ".py",
   "mimetype": "text/x-python",
   "name": "python",
   "nbconvert_exporter": "python",
   "pygments_lexer": "ipython3",
   "version": "3.9.7"
  },
  "orig_nbformat": 4,
  "vscode": {
   "interpreter": {
    "hash": "f08154012ddadd8e950e6e9e035c7a7b32c136e7647e9b7c77e02eb723a8bedb"
   }
  }
 },
 "nbformat": 4,
 "nbformat_minor": 2
}
