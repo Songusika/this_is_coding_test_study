{
 "cells": [
  {
   "cell_type": "code",
   "execution_count": 3,
   "metadata": {},
   "outputs": [],
   "source": [
    "ADVENTURES_MIN = 1             # 모험가 수의 최솟값\n",
    "ADVENTURES_MAX = 100000        # 모험가 수의 최댓값\n",
    "\n",
    "class adventuresGuild:\n",
    "    def __init__(self):\n",
    "        self.N = None               # 입력받을 모험가의 수\n",
    "        self.fear_list = None       # 각 모험가의 공포도를 담을 리스트\n",
    "        self.maxGroupNum = None     # 모험가 그룹의 최댓값\n",
    "        \n",
    "    def inputValue(self):\n",
    "        try: N=int(input()) \n",
    "        except: exit()   \n",
    "        if (self.checkInputValue_N(N)): self.N = N\n",
    "        else: self.inputValue() \n",
    "                \n",
    "        try: fear_list=list(map(int, input().split()))\n",
    "        except: exit()\n",
    "            \n",
    "        if(self.checkInputValue_F(fear_list)): self.fear_list = sorted(fear_list, reverse=True)  # 내림차순 정렬\n",
    "        else: self.inputValue()\n",
    "        \n",
    "    def checkInputValue_N(self, N):\n",
    "        if N>=ADVENTURES_MIN and N<=ADVENTURES_MAX: return True\n",
    "        else: return False\n",
    "        \n",
    "    def checkInputValue_F(self, fear_list):\n",
    "        for fear in fear_list:\n",
    "            if fear>self.N and fear<1: return False\n",
    "        return True\n",
    "    \n",
    "    def groupingAdventurers(self):\n",
    "        for i in range(len(self.fear_list)):\n",
    "            f_list = self.fear_list[i:]\n",
    "            group_list = list()\n",
    "            \n",
    "            if f_list[0]==len(f_list): \n",
    "                group_list.append(f_list)\n",
    "            else:\n",
    "                while(len(f_list) > 0):\n",
    "                    n = f_list[0]  # 첫번째 모험가의 공포도만큼 그룹을 짜기 위한 수\n",
    "                    group = f_list[:n]\n",
    "                    group_list.append(group)\n",
    "                    f_list = f_list[n:]\n",
    "            \n",
    "            self.checkGroupNumMax(group_list)\n",
    "    \n",
    "    def checkGroupNumMax(self, group_list):\n",
    "        print(group_list)\n",
    "        groupNum = len(group_list)\n",
    "    \n",
    "        if self.maxGroupNum == None: self.maxGroupNum = groupNum # 최댓값이 초깃값 None일 경우\n",
    "        \n",
    "        if groupNum > self.maxGroupNum: self.maxGroupNum = groupNum\n",
    "        \n",
    "    def run(self):\n",
    "        self.inputValue()\n",
    "        self.groupingAdventurers()\n",
    "        return self.maxGroupNum"
   ]
  },
  {
   "cell_type": "code",
   "execution_count": 5,
   "metadata": {},
   "outputs": [
    {
     "name": "stdout",
     "output_type": "stream",
     "text": [
      "[[6, 4, 4, 4, 3, 2], [2, 2], [1]]\n",
      "[[4, 4, 4, 3], [2, 2], [2, 1]]\n",
      "[[4, 4, 3, 2], [2, 2], [1]]\n",
      "[[4, 3, 2, 2], [2, 1]]\n",
      "[[3, 2, 2], [2, 1]]\n",
      "[[2, 2], [2, 1]]\n",
      "[[2, 2], [1]]\n",
      "[[2, 1]]\n",
      "[[1]]\n"
     ]
    },
    {
     "data": {
      "text/plain": [
       "3"
      ]
     },
     "execution_count": 5,
     "metadata": {},
     "output_type": "execute_result"
    }
   ],
   "source": [
    "test = adventuresGuild()\n",
    "t = test.run()\n",
    "t"
   ]
  },
  {
   "cell_type": "code",
   "execution_count": null,
   "metadata": {},
   "outputs": [],
   "source": []
  }
 ],
 "metadata": {
  "kernelspec": {
   "display_name": "base",
   "language": "python",
   "name": "python3"
  },
  "language_info": {
   "codemirror_mode": {
    "name": "ipython",
    "version": 3
   },
   "file_extension": ".py",
   "mimetype": "text/x-python",
   "name": "python",
   "nbconvert_exporter": "python",
   "pygments_lexer": "ipython3",
   "version": "3.9.7 (default, Sep 16 2021, 16:59:28) [MSC v.1916 64 bit (AMD64)]"
  },
  "orig_nbformat": 4,
  "vscode": {
   "interpreter": {
    "hash": "f08154012ddadd8e950e6e9e035c7a7b32c136e7647e9b7c77e02eb723a8bedb"
   }
  }
 },
 "nbformat": 4,
 "nbformat_minor": 2
}
